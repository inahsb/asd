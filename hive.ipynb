{
 "cells": [
  {
   "cell_type": "code",
   "execution_count": null,
   "metadata": {},
   "outputs": [],
   "source": [
    "-- Example: Filter data for rides that originated in Manhattan\n",
    "CREATE TABLE nyc_taxi_manhattan AS\n",
    "SELECT *\n",
    "FROM nyc_taxi\n",
    "WHERE pickup_longitude BETWEEN -74.02 AND -73.92\n",
    "AND pickup_latitude BETWEEN 40.70 AND 40.86;\n"
   ]
  },
  {
   "cell_type": "code",
   "execution_count": null,
   "metadata": {},
   "outputs": [],
   "source": [
    "-- Example: Replace missing values in the 'tip_amount' column with 0\n",
    "UPDATE nyc_taxi\n",
    "SET tip_amount = 0\n",
    "WHERE tip_amount IS NULL;\n"
   ]
  },
  {
   "cell_type": "code",
   "execution_count": null,
   "metadata": {},
   "outputs": [],
   "source": [
    "-- Example: Calculate the duration of each trip in minutes\n",
    "ALTER TABLE nyc_taxi ADD COLUMN trip_duration_minutes INT;\n",
    "UPDATE nyc_taxi SET trip_duration_minutes = (unix_timestamp(dropoff_datetime) - unix_timestamp(pickup_datetime)) / 60;\n"
   ]
  },
  {
   "cell_type": "code",
   "execution_count": null,
   "metadata": {},
   "outputs": [],
   "source": [
    "-- Example: Filter data for rides that originated in Manhattan\n",
    "CREATE TABLE nyc_taxi_manhattan AS\n",
    "SELECT *\n",
    "FROM nyc_taxi\n",
    "WHERE pickup_longitude BETWEEN -74.02 AND -73.92\n",
    "AND pickup_latitude BETWEEN 40.70 AND 40.86;\n"
   ]
  },
  {
   "cell_type": "code",
   "execution_count": null,
   "metadata": {},
   "outputs": [],
   "source": [
    "-- Example: Replace missing values in the 'tip_amount' column with 0\n",
    "INSERT OVERWRITE TABLE nyc_taxi\n",
    "SELECT \n",
    "    COALESCE(tip_amount, 0) AS tip_amount,\n",
    "    *\n",
    "FROM nyc_taxi;\n"
   ]
  },
  {
   "cell_type": "code",
   "execution_count": null,
   "metadata": {},
   "outputs": [],
   "source": [
    "-- Example: Calculate the duration of each trip in minutes\n",
    "ALTER TABLE nyc_taxi ADD COLUMNS (trip_duration_minutes INT);\n",
    "\n",
    "UPDATE nyc_taxi \n",
    "SET trip_duration_minutes = (unix_timestamp(dropoff_datetime) - unix_timestamp(pickup_datetime)) / 60;\n"
   ]
  },
  {
   "cell_type": "code",
   "execution_count": null,
   "metadata": {},
   "outputs": [],
   "source": [
    "-- Example: Create a query for top pickup locations\n",
    "SELECT DISTINCT pickup_longitude, pickup_latitude\n",
    "FROM nyc_taxi\n",
    "LIMIT 1000;\n"
   ]
  },
  {
   "cell_type": "code",
   "execution_count": null,
   "metadata": {},
   "outputs": [],
   "source": [
    "-- Example: Create a query for trip durations\n",
    "SELECT trip_duration_minutes\n",
    "FROM nyc_taxi;\n"
   ]
  },
  {
   "cell_type": "code",
   "execution_count": null,
   "metadata": {},
   "outputs": [],
   "source": [
    "-- Example: Create a query for monthly ride counts\n",
    "SELECT substring(pickup_datetime, 1, 7) as pickup_month, COUNT(*) AS ride_count\n",
    "FROM nyc_taxi\n",
    "GROUP BY substring(pickup_datetime, 1, 7);\n"
   ]
  }
 ],
 "metadata": {
  "language_info": {
   "name": "python"
  }
 },
 "nbformat": 4,
 "nbformat_minor": 2
}
